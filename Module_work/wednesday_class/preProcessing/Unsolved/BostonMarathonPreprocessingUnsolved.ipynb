{
 "cells": [
  {
   "cell_type": "code",
   "execution_count": 1,
   "metadata": {
    "collapsed": true
   },
   "outputs": [],
   "source": [
    "import pandas as pd\n",
    "from sklearn.preprocessing import MinMaxScaler, LabelEncoder\n",
    "\n",
    "%matplotlib inline"
   ]
  },
  {
   "cell_type": "code",
   "execution_count": 2,
   "metadata": {},
   "outputs": [
    {
     "output_type": "execute_result",
     "data": {
      "text/plain": [
       "  Bib               Name  Age M/F      City State Country Citizen Unnamed: 8  \\\n",
       "0   2  Cherono, Lawrence   30   M   Eldoret   NaN     KEN     NaN        NaN   \n",
       "1   6     Desisa, Lelisa   29   M      Ambo   NaN     ETH     NaN        NaN   \n",
       "2   7  Kipkemoi, Kenneth   34   M   Eldoret   NaN     KEN     NaN        NaN   \n",
       "3   8      Kandie, Felix   32   M      Iten   NaN     KEN     NaN        NaN   \n",
       "4  11    Kirui, Geoffrey   26   M  Keringet   NaN     KEN     NaN        NaN   \n",
       "\n",
       "        5K  ...      25K      30K      35K      40K     Pace Proj Time  \\\n",
       "0  0:15:11  ...  1:16:23  1:32:01  1:47:16  2:01:45  0:04:53       NaN   \n",
       "1  0:15:10  ...  1:16:24  1:32:01  1:47:16  2:01:46  0:04:53       NaN   \n",
       "2  0:15:14  ...  1:16:24  1:32:01  1:47:16  2:01:45  0:04:54       NaN   \n",
       "3  0:15:14  ...  1:16:24  1:32:01  1:47:16  2:02:08  0:04:55       NaN   \n",
       "4  0:15:12  ...  1:16:23  1:32:01  1:47:16  2:01:57  0:04:56       NaN   \n",
       "\n",
       "  Official Time Overall Gender Division  \n",
       "0       2:07:57       1      1        1  \n",
       "1       2:07:59       2      2        2  \n",
       "2       2:08:07       3      3        3  \n",
       "3       2:08:54       4      4        4  \n",
       "4       2:08:55       5      5        5  \n",
       "\n",
       "[5 rows x 24 columns]"
      ],
      "text/html": "<div>\n<style scoped>\n    .dataframe tbody tr th:only-of-type {\n        vertical-align: middle;\n    }\n\n    .dataframe tbody tr th {\n        vertical-align: top;\n    }\n\n    .dataframe thead th {\n        text-align: right;\n    }\n</style>\n<table border=\"1\" class=\"dataframe\">\n  <thead>\n    <tr style=\"text-align: right;\">\n      <th></th>\n      <th>Bib</th>\n      <th>Name</th>\n      <th>Age</th>\n      <th>M/F</th>\n      <th>City</th>\n      <th>State</th>\n      <th>Country</th>\n      <th>Citizen</th>\n      <th>Unnamed: 8</th>\n      <th>5K</th>\n      <th>...</th>\n      <th>25K</th>\n      <th>30K</th>\n      <th>35K</th>\n      <th>40K</th>\n      <th>Pace</th>\n      <th>Proj Time</th>\n      <th>Official Time</th>\n      <th>Overall</th>\n      <th>Gender</th>\n      <th>Division</th>\n    </tr>\n  </thead>\n  <tbody>\n    <tr>\n      <th>0</th>\n      <td>2</td>\n      <td>Cherono, Lawrence</td>\n      <td>30</td>\n      <td>M</td>\n      <td>Eldoret</td>\n      <td>NaN</td>\n      <td>KEN</td>\n      <td>NaN</td>\n      <td>NaN</td>\n      <td>0:15:11</td>\n      <td>...</td>\n      <td>1:16:23</td>\n      <td>1:32:01</td>\n      <td>1:47:16</td>\n      <td>2:01:45</td>\n      <td>0:04:53</td>\n      <td>NaN</td>\n      <td>2:07:57</td>\n      <td>1</td>\n      <td>1</td>\n      <td>1</td>\n    </tr>\n    <tr>\n      <th>1</th>\n      <td>6</td>\n      <td>Desisa, Lelisa</td>\n      <td>29</td>\n      <td>M</td>\n      <td>Ambo</td>\n      <td>NaN</td>\n      <td>ETH</td>\n      <td>NaN</td>\n      <td>NaN</td>\n      <td>0:15:10</td>\n      <td>...</td>\n      <td>1:16:24</td>\n      <td>1:32:01</td>\n      <td>1:47:16</td>\n      <td>2:01:46</td>\n      <td>0:04:53</td>\n      <td>NaN</td>\n      <td>2:07:59</td>\n      <td>2</td>\n      <td>2</td>\n      <td>2</td>\n    </tr>\n    <tr>\n      <th>2</th>\n      <td>7</td>\n      <td>Kipkemoi, Kenneth</td>\n      <td>34</td>\n      <td>M</td>\n      <td>Eldoret</td>\n      <td>NaN</td>\n      <td>KEN</td>\n      <td>NaN</td>\n      <td>NaN</td>\n      <td>0:15:14</td>\n      <td>...</td>\n      <td>1:16:24</td>\n      <td>1:32:01</td>\n      <td>1:47:16</td>\n      <td>2:01:45</td>\n      <td>0:04:54</td>\n      <td>NaN</td>\n      <td>2:08:07</td>\n      <td>3</td>\n      <td>3</td>\n      <td>3</td>\n    </tr>\n    <tr>\n      <th>3</th>\n      <td>8</td>\n      <td>Kandie, Felix</td>\n      <td>32</td>\n      <td>M</td>\n      <td>Iten</td>\n      <td>NaN</td>\n      <td>KEN</td>\n      <td>NaN</td>\n      <td>NaN</td>\n      <td>0:15:14</td>\n      <td>...</td>\n      <td>1:16:24</td>\n      <td>1:32:01</td>\n      <td>1:47:16</td>\n      <td>2:02:08</td>\n      <td>0:04:55</td>\n      <td>NaN</td>\n      <td>2:08:54</td>\n      <td>4</td>\n      <td>4</td>\n      <td>4</td>\n    </tr>\n    <tr>\n      <th>4</th>\n      <td>11</td>\n      <td>Kirui, Geoffrey</td>\n      <td>26</td>\n      <td>M</td>\n      <td>Keringet</td>\n      <td>NaN</td>\n      <td>KEN</td>\n      <td>NaN</td>\n      <td>NaN</td>\n      <td>0:15:12</td>\n      <td>...</td>\n      <td>1:16:23</td>\n      <td>1:32:01</td>\n      <td>1:47:16</td>\n      <td>2:01:57</td>\n      <td>0:04:56</td>\n      <td>NaN</td>\n      <td>2:08:55</td>\n      <td>5</td>\n      <td>5</td>\n      <td>5</td>\n    </tr>\n  </tbody>\n</table>\n<p>5 rows × 24 columns</p>\n</div>"
     },
     "metadata": {},
     "execution_count": 2
    }
   ],
   "source": [
    "df = pd.read_csv('../Resources/marathon_results_2019.csv')\n",
    "df.head()"
   ]
  },
  {
   "cell_type": "code",
   "execution_count": 3,
   "metadata": {},
   "outputs": [],
   "source": [
    "# Subset the dataframe to only the columns \"Age\", \"M/F\", split times (i.e. \"5K, 10K\", etc.), \"Pace\", and \"Official Time\". \n",
    "subset_df = df[['Age', 'M/F', '5K', '10K', '15K', '20K', 'Half', '25K', '30K', '35K', '40K', 'Pace', 'Official Time']].copy()"
   ]
  },
  {
   "cell_type": "code",
   "execution_count": 4,
   "metadata": {},
   "outputs": [],
   "source": [
    "# Convert the split times, \"Pace\", and \"Official Time\" to timedeltas using apply() and pandas.to_timedelta()\n",
    "subset_df[['5K', '10K', '15K', '20K', 'Half', '25K', '30K', '35K', '40K', 'Pace', 'Official Time']] = subset_df[['5K', '10K', '15K', '20K', 'Half', '25K', '30K', '35K', '40K', 'Pace', 'Official Time']].apply(pd.to_timedelta)"
   ]
  },
  {
   "cell_type": "code",
   "execution_count": 5,
   "metadata": {},
   "outputs": [],
   "source": [
    "# Convert timedeltas to seconds by applying the lambda function lambda x: x.dt.total_seconds()\n",
    "subset_df[['5K', '10K', '15K', '20K', 'Half', '25K', '30K', '35K', '40K', 'Pace', 'Official Time']] = subset_df[['5K', '10K', '15K', '20K', 'Half', '25K', '30K', '35K', '40K', 'Pace', 'Official Time']].apply(lambda x: x.dt.total_seconds())"
   ]
  },
  {
   "cell_type": "code",
   "execution_count": 6,
   "metadata": {},
   "outputs": [],
   "source": [
    "# Subset df to only rows where the split values are non-zero\n",
    "subset_df = subset_df[~(df == 0).any(axis=1)]\n"
   ]
  },
  {
   "cell_type": "code",
   "execution_count": 7,
   "metadata": {},
   "outputs": [],
   "source": [
    "# Use LabelEncoder to convert 'M/F' into integer labels\n",
    "subset_df['M/F'] = LabelEncoder().fit_transform(subset_df['M/F'])"
   ]
  },
  {
   "cell_type": "code",
   "execution_count": null,
   "metadata": {
    "collapsed": true
   },
   "outputs": [],
   "source": [
    "# Convert 'Age' to a numeric value\n"
   ]
  },
  {
   "cell_type": "code",
   "execution_count": 8,
   "metadata": {},
   "outputs": [
    {
     "output_type": "execute_result",
     "data": {
      "text/plain": [
       "Age                int64\n",
       "M/F                int32\n",
       "5K               float64\n",
       "10K              float64\n",
       "15K              float64\n",
       "20K              float64\n",
       "Half             float64\n",
       "25K              float64\n",
       "30K              float64\n",
       "35K              float64\n",
       "40K              float64\n",
       "Pace             float64\n",
       "Official Time    float64\n",
       "dtype: object"
      ]
     },
     "metadata": {},
     "execution_count": 8
    }
   ],
   "source": [
    "# 'Pace' should be perfectly correlated with 'Official Time', so we'll remove it from our X data (but keep it for analysis)\n",
    "# Plot a scatter plot of 'Pace' against 'Official Time' to make sure\n",
    "subset_df.dtypes"
   ]
  },
  {
   "cell_type": "code",
   "execution_count": null,
   "metadata": {
    "collapsed": true
   },
   "outputs": [],
   "source": [
    "# Create a training set 'X' with every column except 'Pace'\n",
    "### YOUR CODE HERE ###"
   ]
  },
  {
   "cell_type": "code",
   "execution_count": 9,
   "metadata": {},
   "outputs": [],
   "source": [
    "# Scale the dataset using MinMaxScaler()\n",
    "subset_scaled = pd.DataFrame(MinMaxScaler().fit_transform(subset_df))"
   ]
  },
  {
   "cell_type": "code",
   "execution_count": 10,
   "metadata": {
    "collapsed": true
   },
   "outputs": [
    {
     "output_type": "execute_result",
     "data": {
      "text/plain": [
       "             0    1         2         3         4         5         6   \\\n",
       "0      0.184615  1.0  0.272591  0.312029  0.311954  0.296499  0.295682   \n",
       "1      0.169231  1.0  0.272292  0.312200  0.311727  0.296499  0.295759   \n",
       "2      0.246154  1.0  0.273489  0.312200  0.311840  0.296580  0.295835   \n",
       "3      0.215385  1.0  0.273489  0.312543  0.311840  0.296499  0.295835   \n",
       "4      0.123077  1.0  0.272890  0.312029  0.311727  0.296419  0.295606   \n",
       "...         ...  ...       ...       ...       ...       ...       ...   \n",
       "26642  0.369231  1.0  0.485937  0.567855  0.618004  0.620907  0.630875   \n",
       "26643  0.153846  1.0  0.901257  1.000000  1.000000  0.952815  0.953000   \n",
       "26644  0.538462  1.0  0.706463  0.870973  0.902032  0.912889  0.921972   \n",
       "26645  0.507692  0.0  0.702873  0.844071  0.896583  0.908856  0.920673   \n",
       "26646  0.738462  1.0  0.000000  0.830021  0.953911  1.000000  1.000000   \n",
       "\n",
       "             7         8         9         10        11        12  \n",
       "0      0.283163  0.275073  0.270273  0.275671  0.000000  0.000000  \n",
       "1      0.283225  0.275073  0.270273  0.275709  0.000000  0.000099  \n",
       "2      0.283225  0.275073  0.270273  0.275671  0.001300  0.000496  \n",
       "3      0.283225  0.275073  0.270273  0.276539  0.002601  0.002829  \n",
       "4      0.283163  0.275073  0.270273  0.276124  0.003901  0.002878  \n",
       "...         ...       ...       ...       ...       ...       ...  \n",
       "26642  0.696509  0.805740  0.878428  0.927356  0.911573  0.911865  \n",
       "26643  0.924560  0.899756  0.895141  0.000000  0.918075  0.918168  \n",
       "26644  0.913191  0.907279  0.910175  0.000000  0.921977  0.921939  \n",
       "26645  0.911956  0.911165  0.922311  0.000000  0.946684  0.945958  \n",
       "26646  1.000000  1.000000  1.000000  1.000000  1.000000  1.000000  \n",
       "\n",
       "[26647 rows x 13 columns]"
      ],
      "text/html": "<div>\n<style scoped>\n    .dataframe tbody tr th:only-of-type {\n        vertical-align: middle;\n    }\n\n    .dataframe tbody tr th {\n        vertical-align: top;\n    }\n\n    .dataframe thead th {\n        text-align: right;\n    }\n</style>\n<table border=\"1\" class=\"dataframe\">\n  <thead>\n    <tr style=\"text-align: right;\">\n      <th></th>\n      <th>0</th>\n      <th>1</th>\n      <th>2</th>\n      <th>3</th>\n      <th>4</th>\n      <th>5</th>\n      <th>6</th>\n      <th>7</th>\n      <th>8</th>\n      <th>9</th>\n      <th>10</th>\n      <th>11</th>\n      <th>12</th>\n    </tr>\n  </thead>\n  <tbody>\n    <tr>\n      <th>0</th>\n      <td>0.184615</td>\n      <td>1.0</td>\n      <td>0.272591</td>\n      <td>0.312029</td>\n      <td>0.311954</td>\n      <td>0.296499</td>\n      <td>0.295682</td>\n      <td>0.283163</td>\n      <td>0.275073</td>\n      <td>0.270273</td>\n      <td>0.275671</td>\n      <td>0.000000</td>\n      <td>0.000000</td>\n    </tr>\n    <tr>\n      <th>1</th>\n      <td>0.169231</td>\n      <td>1.0</td>\n      <td>0.272292</td>\n      <td>0.312200</td>\n      <td>0.311727</td>\n      <td>0.296499</td>\n      <td>0.295759</td>\n      <td>0.283225</td>\n      <td>0.275073</td>\n      <td>0.270273</td>\n      <td>0.275709</td>\n      <td>0.000000</td>\n      <td>0.000099</td>\n    </tr>\n    <tr>\n      <th>2</th>\n      <td>0.246154</td>\n      <td>1.0</td>\n      <td>0.273489</td>\n      <td>0.312200</td>\n      <td>0.311840</td>\n      <td>0.296580</td>\n      <td>0.295835</td>\n      <td>0.283225</td>\n      <td>0.275073</td>\n      <td>0.270273</td>\n      <td>0.275671</td>\n      <td>0.001300</td>\n      <td>0.000496</td>\n    </tr>\n    <tr>\n      <th>3</th>\n      <td>0.215385</td>\n      <td>1.0</td>\n      <td>0.273489</td>\n      <td>0.312543</td>\n      <td>0.311840</td>\n      <td>0.296499</td>\n      <td>0.295835</td>\n      <td>0.283225</td>\n      <td>0.275073</td>\n      <td>0.270273</td>\n      <td>0.276539</td>\n      <td>0.002601</td>\n      <td>0.002829</td>\n    </tr>\n    <tr>\n      <th>4</th>\n      <td>0.123077</td>\n      <td>1.0</td>\n      <td>0.272890</td>\n      <td>0.312029</td>\n      <td>0.311727</td>\n      <td>0.296419</td>\n      <td>0.295606</td>\n      <td>0.283163</td>\n      <td>0.275073</td>\n      <td>0.270273</td>\n      <td>0.276124</td>\n      <td>0.003901</td>\n      <td>0.002878</td>\n    </tr>\n    <tr>\n      <th>...</th>\n      <td>...</td>\n      <td>...</td>\n      <td>...</td>\n      <td>...</td>\n      <td>...</td>\n      <td>...</td>\n      <td>...</td>\n      <td>...</td>\n      <td>...</td>\n      <td>...</td>\n      <td>...</td>\n      <td>...</td>\n      <td>...</td>\n    </tr>\n    <tr>\n      <th>26642</th>\n      <td>0.369231</td>\n      <td>1.0</td>\n      <td>0.485937</td>\n      <td>0.567855</td>\n      <td>0.618004</td>\n      <td>0.620907</td>\n      <td>0.630875</td>\n      <td>0.696509</td>\n      <td>0.805740</td>\n      <td>0.878428</td>\n      <td>0.927356</td>\n      <td>0.911573</td>\n      <td>0.911865</td>\n    </tr>\n    <tr>\n      <th>26643</th>\n      <td>0.153846</td>\n      <td>1.0</td>\n      <td>0.901257</td>\n      <td>1.000000</td>\n      <td>1.000000</td>\n      <td>0.952815</td>\n      <td>0.953000</td>\n      <td>0.924560</td>\n      <td>0.899756</td>\n      <td>0.895141</td>\n      <td>0.000000</td>\n      <td>0.918075</td>\n      <td>0.918168</td>\n    </tr>\n    <tr>\n      <th>26644</th>\n      <td>0.538462</td>\n      <td>1.0</td>\n      <td>0.706463</td>\n      <td>0.870973</td>\n      <td>0.902032</td>\n      <td>0.912889</td>\n      <td>0.921972</td>\n      <td>0.913191</td>\n      <td>0.907279</td>\n      <td>0.910175</td>\n      <td>0.000000</td>\n      <td>0.921977</td>\n      <td>0.921939</td>\n    </tr>\n    <tr>\n      <th>26645</th>\n      <td>0.507692</td>\n      <td>0.0</td>\n      <td>0.702873</td>\n      <td>0.844071</td>\n      <td>0.896583</td>\n      <td>0.908856</td>\n      <td>0.920673</td>\n      <td>0.911956</td>\n      <td>0.911165</td>\n      <td>0.922311</td>\n      <td>0.000000</td>\n      <td>0.946684</td>\n      <td>0.945958</td>\n    </tr>\n    <tr>\n      <th>26646</th>\n      <td>0.738462</td>\n      <td>1.0</td>\n      <td>0.000000</td>\n      <td>0.830021</td>\n      <td>0.953911</td>\n      <td>1.000000</td>\n      <td>1.000000</td>\n      <td>1.000000</td>\n      <td>1.000000</td>\n      <td>1.000000</td>\n      <td>1.000000</td>\n      <td>1.000000</td>\n      <td>1.000000</td>\n    </tr>\n  </tbody>\n</table>\n<p>26647 rows × 13 columns</p>\n</div>"
     },
     "metadata": {},
     "execution_count": 10
    }
   ],
   "source": [
    "subset_scaled"
   ]
  }
 ],
 "metadata": {
  "kernelspec": {
   "name": "python379jvsc74a57bd0c8e0068a42f4d5aed5b78028b94b9e0672eb649433431aff7cc26c8cc99eb5e2",
   "display_name": "Python 3.7.9 64-bit ('PythonData': conda)"
  },
  "language_info": {
   "codemirror_mode": {
    "name": "ipython",
    "version": 3
   },
   "file_extension": ".py",
   "mimetype": "text/x-python",
   "name": "python",
   "nbconvert_exporter": "python",
   "pygments_lexer": "ipython3",
   "version": "3.7.9"
  }
 },
 "nbformat": 4,
 "nbformat_minor": 2
}